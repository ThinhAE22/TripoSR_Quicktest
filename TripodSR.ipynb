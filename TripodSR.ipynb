{
  "nbformat": 4,
  "nbformat_minor": 0,
  "metadata": {
    "colab": {
      "provenance": [],
      "gpuType": "T4"
    },
    "kernelspec": {
      "name": "python3",
      "display_name": "Python 3"
    },
    "language_info": {
      "name": "python"
    },
    "accelerator": "GPU"
  },
  "cells": [
    {
      "cell_type": "code",
      "execution_count": 3,
      "metadata": {
        "id": "koCAnzsT4r70",
        "colab": {
          "base_uri": "https://localhost:8080/"
        },
        "outputId": "00c4fac8-97a0-47d8-aedc-1215aaacf8fd"
      },
      "outputs": [
        {
          "output_type": "stream",
          "name": "stdout",
          "text": [
            "fatal: destination path 'TripoSR' already exists and is not an empty directory.\n",
            "/content/TripoSR\n",
            "  Installing build dependencies ... \u001b[?25l\u001b[?25hdone\n",
            "  Getting requirements to build wheel ... \u001b[?25l\u001b[?25hdone\n",
            "  Preparing metadata (pyproject.toml) ... \u001b[?25l\u001b[?25hdone\n"
          ]
        }
      ],
      "source": [
        "!git clone https://github.com/pyimagesearch/TripoSR.git\n",
        "import sys\n",
        "sys.path.append('/content/TripoSR/tsr')\n",
        "%cd TripoSR\n",
        "!pip install -r requirements.txt -q"
      ]
    },
    {
      "cell_type": "code",
      "source": [
        "!pip install onnxruntime"
      ],
      "metadata": {
        "colab": {
          "base_uri": "https://localhost:8080/"
        },
        "id": "FdeZUY-R7MGq",
        "outputId": "35981ebf-04b4-4fc3-eeec-abf50c53bcf0"
      },
      "execution_count": 2,
      "outputs": [
        {
          "output_type": "stream",
          "name": "stdout",
          "text": [
            "Requirement already satisfied: onnxruntime in /usr/local/lib/python3.11/dist-packages (1.22.0)\n",
            "Requirement already satisfied: coloredlogs in /usr/local/lib/python3.11/dist-packages (from onnxruntime) (15.0.1)\n",
            "Requirement already satisfied: flatbuffers in /usr/local/lib/python3.11/dist-packages (from onnxruntime) (25.2.10)\n",
            "Requirement already satisfied: numpy>=1.21.6 in /usr/local/lib/python3.11/dist-packages (from onnxruntime) (2.0.2)\n",
            "Requirement already satisfied: packaging in /usr/local/lib/python3.11/dist-packages (from onnxruntime) (24.2)\n",
            "Requirement already satisfied: protobuf in /usr/local/lib/python3.11/dist-packages (from onnxruntime) (5.29.4)\n",
            "Requirement already satisfied: sympy in /usr/local/lib/python3.11/dist-packages (from onnxruntime) (1.13.1)\n",
            "Requirement already satisfied: humanfriendly>=9.1 in /usr/local/lib/python3.11/dist-packages (from coloredlogs->onnxruntime) (10.0)\n",
            "Requirement already satisfied: mpmath<1.4,>=1.1.0 in /usr/local/lib/python3.11/dist-packages (from sympy->onnxruntime) (1.3.0)\n"
          ]
        }
      ]
    },
    {
      "cell_type": "code",
      "source": [
        "import torch\n",
        "import os\n",
        "import time\n",
        "from PIL import Image\n",
        "import numpy as np\n",
        "from IPython.display import Video\n",
        "from tsr.system import TSR\n",
        "from tsr.utils import remove_background, resize_foreground, save_video\n",
        "import pymeshlab as pymesh\n",
        "import rembg"
      ],
      "metadata": {
        "id": "XckmerNx5rSZ"
      },
      "execution_count": 4,
      "outputs": []
    },
    {
      "cell_type": "code",
      "source": [
        "device = \"cuda\" if torch.cuda.is_available() else \"cpu\""
      ],
      "metadata": {
        "id": "tS2NtXqA6-b9"
      },
      "execution_count": 5,
      "outputs": []
    },
    {
      "cell_type": "code",
      "source": [
        "class Timer:\n",
        "    def __init__(self):\n",
        "        self.items = {}\n",
        "        self.time_scale = 1000.0  # ms\n",
        "        self.time_unit = \"ms\"\n",
        "    def start(self, name: str) -> None:\n",
        "        if torch.cuda.is_available():\n",
        "            torch.cuda.synchronize()\n",
        "        self.items[name] = time.time()\n",
        "    def end(self, name: str) -> float:\n",
        "        if name not in self.items:\n",
        "            return\n",
        "        if torch.cuda.is_available():\n",
        "            torch.cuda.synchronize()\n",
        "        start_time = self.items.pop(name)\n",
        "        delta = time.time() - start_time\n",
        "        t = delta * self.time_scale\n",
        "        print(f\"{name} finished in {t:.2f}{self.time_unit}.\")\n",
        "timer = Timer()"
      ],
      "metadata": {
        "id": "bshyX2qf7dja"
      },
      "execution_count": 6,
      "outputs": []
    },
    {
      "cell_type": "code",
      "source": [
        "from google.colab import files\n",
        "uploaded = files.upload()\n",
        "original_image = Image.open(list(uploaded.keys())[0])\n",
        "original_image.resize((512, 512)).save(\"examples/product.png\")"
      ],
      "metadata": {
        "colab": {
          "base_uri": "https://localhost:8080/",
          "height": 71
        },
        "id": "l0Mf0-xR-RmX",
        "outputId": "95a9d98b-545c-4a9e-a4a6-49266102a75b"
      },
      "execution_count": 8,
      "outputs": [
        {
          "output_type": "display_data",
          "data": {
            "text/plain": [
              "<IPython.core.display.HTML object>"
            ],
            "text/html": [
              "\n",
              "     <input type=\"file\" id=\"files-007e077e-9938-4bba-9fe1-eddacab8d72b\" name=\"files[]\" multiple disabled\n",
              "        style=\"border:none\" />\n",
              "     <output id=\"result-007e077e-9938-4bba-9fe1-eddacab8d72b\">\n",
              "      Upload widget is only available when the cell has been executed in the\n",
              "      current browser session. Please rerun this cell to enable.\n",
              "      </output>\n",
              "      <script>// Copyright 2017 Google LLC\n",
              "//\n",
              "// Licensed under the Apache License, Version 2.0 (the \"License\");\n",
              "// you may not use this file except in compliance with the License.\n",
              "// You may obtain a copy of the License at\n",
              "//\n",
              "//      http://www.apache.org/licenses/LICENSE-2.0\n",
              "//\n",
              "// Unless required by applicable law or agreed to in writing, software\n",
              "// distributed under the License is distributed on an \"AS IS\" BASIS,\n",
              "// WITHOUT WARRANTIES OR CONDITIONS OF ANY KIND, either express or implied.\n",
              "// See the License for the specific language governing permissions and\n",
              "// limitations under the License.\n",
              "\n",
              "/**\n",
              " * @fileoverview Helpers for google.colab Python module.\n",
              " */\n",
              "(function(scope) {\n",
              "function span(text, styleAttributes = {}) {\n",
              "  const element = document.createElement('span');\n",
              "  element.textContent = text;\n",
              "  for (const key of Object.keys(styleAttributes)) {\n",
              "    element.style[key] = styleAttributes[key];\n",
              "  }\n",
              "  return element;\n",
              "}\n",
              "\n",
              "// Max number of bytes which will be uploaded at a time.\n",
              "const MAX_PAYLOAD_SIZE = 100 * 1024;\n",
              "\n",
              "function _uploadFiles(inputId, outputId) {\n",
              "  const steps = uploadFilesStep(inputId, outputId);\n",
              "  const outputElement = document.getElementById(outputId);\n",
              "  // Cache steps on the outputElement to make it available for the next call\n",
              "  // to uploadFilesContinue from Python.\n",
              "  outputElement.steps = steps;\n",
              "\n",
              "  return _uploadFilesContinue(outputId);\n",
              "}\n",
              "\n",
              "// This is roughly an async generator (not supported in the browser yet),\n",
              "// where there are multiple asynchronous steps and the Python side is going\n",
              "// to poll for completion of each step.\n",
              "// This uses a Promise to block the python side on completion of each step,\n",
              "// then passes the result of the previous step as the input to the next step.\n",
              "function _uploadFilesContinue(outputId) {\n",
              "  const outputElement = document.getElementById(outputId);\n",
              "  const steps = outputElement.steps;\n",
              "\n",
              "  const next = steps.next(outputElement.lastPromiseValue);\n",
              "  return Promise.resolve(next.value.promise).then((value) => {\n",
              "    // Cache the last promise value to make it available to the next\n",
              "    // step of the generator.\n",
              "    outputElement.lastPromiseValue = value;\n",
              "    return next.value.response;\n",
              "  });\n",
              "}\n",
              "\n",
              "/**\n",
              " * Generator function which is called between each async step of the upload\n",
              " * process.\n",
              " * @param {string} inputId Element ID of the input file picker element.\n",
              " * @param {string} outputId Element ID of the output display.\n",
              " * @return {!Iterable<!Object>} Iterable of next steps.\n",
              " */\n",
              "function* uploadFilesStep(inputId, outputId) {\n",
              "  const inputElement = document.getElementById(inputId);\n",
              "  inputElement.disabled = false;\n",
              "\n",
              "  const outputElement = document.getElementById(outputId);\n",
              "  outputElement.innerHTML = '';\n",
              "\n",
              "  const pickedPromise = new Promise((resolve) => {\n",
              "    inputElement.addEventListener('change', (e) => {\n",
              "      resolve(e.target.files);\n",
              "    });\n",
              "  });\n",
              "\n",
              "  const cancel = document.createElement('button');\n",
              "  inputElement.parentElement.appendChild(cancel);\n",
              "  cancel.textContent = 'Cancel upload';\n",
              "  const cancelPromise = new Promise((resolve) => {\n",
              "    cancel.onclick = () => {\n",
              "      resolve(null);\n",
              "    };\n",
              "  });\n",
              "\n",
              "  // Wait for the user to pick the files.\n",
              "  const files = yield {\n",
              "    promise: Promise.race([pickedPromise, cancelPromise]),\n",
              "    response: {\n",
              "      action: 'starting',\n",
              "    }\n",
              "  };\n",
              "\n",
              "  cancel.remove();\n",
              "\n",
              "  // Disable the input element since further picks are not allowed.\n",
              "  inputElement.disabled = true;\n",
              "\n",
              "  if (!files) {\n",
              "    return {\n",
              "      response: {\n",
              "        action: 'complete',\n",
              "      }\n",
              "    };\n",
              "  }\n",
              "\n",
              "  for (const file of files) {\n",
              "    const li = document.createElement('li');\n",
              "    li.append(span(file.name, {fontWeight: 'bold'}));\n",
              "    li.append(span(\n",
              "        `(${file.type || 'n/a'}) - ${file.size} bytes, ` +\n",
              "        `last modified: ${\n",
              "            file.lastModifiedDate ? file.lastModifiedDate.toLocaleDateString() :\n",
              "                                    'n/a'} - `));\n",
              "    const percent = span('0% done');\n",
              "    li.appendChild(percent);\n",
              "\n",
              "    outputElement.appendChild(li);\n",
              "\n",
              "    const fileDataPromise = new Promise((resolve) => {\n",
              "      const reader = new FileReader();\n",
              "      reader.onload = (e) => {\n",
              "        resolve(e.target.result);\n",
              "      };\n",
              "      reader.readAsArrayBuffer(file);\n",
              "    });\n",
              "    // Wait for the data to be ready.\n",
              "    let fileData = yield {\n",
              "      promise: fileDataPromise,\n",
              "      response: {\n",
              "        action: 'continue',\n",
              "      }\n",
              "    };\n",
              "\n",
              "    // Use a chunked sending to avoid message size limits. See b/62115660.\n",
              "    let position = 0;\n",
              "    do {\n",
              "      const length = Math.min(fileData.byteLength - position, MAX_PAYLOAD_SIZE);\n",
              "      const chunk = new Uint8Array(fileData, position, length);\n",
              "      position += length;\n",
              "\n",
              "      const base64 = btoa(String.fromCharCode.apply(null, chunk));\n",
              "      yield {\n",
              "        response: {\n",
              "          action: 'append',\n",
              "          file: file.name,\n",
              "          data: base64,\n",
              "        },\n",
              "      };\n",
              "\n",
              "      let percentDone = fileData.byteLength === 0 ?\n",
              "          100 :\n",
              "          Math.round((position / fileData.byteLength) * 100);\n",
              "      percent.textContent = `${percentDone}% done`;\n",
              "\n",
              "    } while (position < fileData.byteLength);\n",
              "  }\n",
              "\n",
              "  // All done.\n",
              "  yield {\n",
              "    response: {\n",
              "      action: 'complete',\n",
              "    }\n",
              "  };\n",
              "}\n",
              "\n",
              "scope.google = scope.google || {};\n",
              "scope.google.colab = scope.google.colab || {};\n",
              "scope.google.colab._files = {\n",
              "  _uploadFiles,\n",
              "  _uploadFilesContinue,\n",
              "};\n",
              "})(self);\n",
              "</script> "
            ]
          },
          "metadata": {}
        },
        {
          "output_type": "stream",
          "name": "stdout",
          "text": [
            "Saving box.jpg to box (1).jpg\n"
          ]
        }
      ]
    },
    {
      "cell_type": "code",
      "source": [
        "image_paths = \"/content/TripoSR/examples/product.png\"\n",
        "device = \"cuda:0\"\n",
        "pretrained_model_name_or_path = \"stabilityai/TripoSR\"\n",
        "chunk_size = 8192\n",
        "no_remove_bg = True\n",
        "foreground_ratio = 0.85\n",
        "output_dir = \"output/\"\n",
        "model_save_format = \"obj\"\n",
        "render = True\n",
        "output_dir = output_dir.strip()\n",
        "os.makedirs(output_dir, exist_ok=True)"
      ],
      "metadata": {
        "id": "SNpJCBa6713H"
      },
      "execution_count": 9,
      "outputs": []
    },
    {
      "cell_type": "code",
      "source": [
        "!pip show pillow"
      ],
      "metadata": {
        "colab": {
          "base_uri": "https://localhost:8080/"
        },
        "id": "6CDI9K4k8yPD",
        "outputId": "f7c99c8c-b0d7-4557-cf64-32578c634b26"
      },
      "execution_count": 10,
      "outputs": [
        {
          "output_type": "stream",
          "name": "stdout",
          "text": [
            "Name: Pillow\n",
            "Version: 10.1.0\n",
            "Summary: Python Imaging Library (Fork)\n",
            "Home-page: https://python-pillow.org\n",
            "Author: Jeffrey A. Clark (Alex)\n",
            "Author-email: aclark@aclark.net\n",
            "License: HPND\n",
            "Location: /usr/local/lib/python3.11/dist-packages\n",
            "Requires: \n",
            "Required-by: bokeh, diffusers, dopamine_rl, fastai, gradio, imageio, matplotlib, PyMatting, rembg, scikit-image, sentence-transformers, torchtune, torchvision, wordcloud\n"
          ]
        }
      ]
    },
    {
      "cell_type": "code",
      "source": [
        "timer.start(\"Initializing model\")\n",
        "model = TSR.from_pretrained(\n",
        "    pretrained_model_name_or_path,\n",
        "    config_name=\"config.yaml\",\n",
        "    weight_name=\"model.ckpt\",\n",
        ")\n",
        "model.renderer.set_chunk_size(chunk_size)\n",
        "model.to(device)\n",
        "timer.end(\"Initializing model\")"
      ],
      "metadata": {
        "colab": {
          "base_uri": "https://localhost:8080/"
        },
        "id": "f3Mi3Ny07_Qf",
        "outputId": "3276b75b-879a-4e6f-9eb0-7fbce7190ffe"
      },
      "execution_count": 11,
      "outputs": [
        {
          "output_type": "stream",
          "name": "stderr",
          "text": [
            "/usr/local/lib/python3.11/dist-packages/huggingface_hub/utils/_auth.py:94: UserWarning: \n",
            "The secret `HF_TOKEN` does not exist in your Colab secrets.\n",
            "To authenticate with the Hugging Face Hub, create a token in your settings tab (https://huggingface.co/settings/tokens), set it as secret in your Google Colab and restart your session.\n",
            "You will be able to reuse this secret in all of your notebooks.\n",
            "Please note that authentication is recommended but still optional to access public models or datasets.\n",
            "  warnings.warn(\n"
          ]
        },
        {
          "output_type": "stream",
          "name": "stdout",
          "text": [
            "Initializing model finished in 15620.67ms.\n"
          ]
        }
      ]
    },
    {
      "cell_type": "code",
      "source": [
        "timer.start(\"Processing images\")\n",
        "images = []\n",
        "rembg_session = rembg.new_session()\n",
        "\n",
        "# remove background — output image has alpha channel (RGBA)\n",
        "image = remove_background(original_image, rembg_session)\n",
        "\n",
        "# pass this image with alpha channel to resize_foreground\n",
        "image = resize_foreground(image, foreground_ratio)\n",
        "if image.mode == \"RGBA\":\n",
        "    image = np.array(image).astype(np.float32) / 255.0\n",
        "    image = image[:, :, :3] * image[:, :, 3:4] + (1 - image[:, :, 3:4]) * 0.5\n",
        "    image = Image.fromarray((image * 255.0).astype(np.uint8))\n",
        "image_dir = os.path.join(output_dir, str(0))\n",
        "os.makedirs(image_dir, exist_ok=True)\n",
        "image.save(os.path.join(image_dir, \"input.png\"))\n",
        "images.append(image)\n",
        "timer.end(\"Processing images\")"
      ],
      "metadata": {
        "colab": {
          "base_uri": "https://localhost:8080/"
        },
        "id": "56cdyGdH8Bit",
        "outputId": "aba59ebd-9390-4e08-f6bf-cd1397946483"
      },
      "execution_count": 13,
      "outputs": [
        {
          "output_type": "stream",
          "name": "stdout",
          "text": [
            "Processing images finished in 2488.11ms.\n"
          ]
        }
      ]
    },
    {
      "cell_type": "code",
      "source": [
        "for i, image in enumerate(images):\n",
        "    print(f\"Running image {i + 1}/{len(images)} ...\")\n",
        "    timer.start(\"Running model\")\n",
        "    with torch.no_grad():\n",
        "        scene_codes = model([image], device=device)\n",
        "    timer.end(\"Running model\")\n",
        "\n",
        "    if render:\n",
        "        timer.start(\"Rendering\")\n",
        "        render_images = model.render(scene_codes, n_views=30, return_type=\"pil\")\n",
        "        for ri, render_image in enumerate(render_images[0]):\n",
        "            render_image.save(os.path.join(output_dir, str(i), f\"render_{ri:03d}.png\"))\n",
        "        save_video(\n",
        "            render_images[0], os.path.join(output_dir, str(i), \"render.mp4\"), fps=30\n",
        "        )\n",
        "        timer.end(\"Rendering\")\n",
        "\n",
        "    timer.start(\"Exporting mesh\")\n",
        "    meshes = model.extract_mesh(scene_codes, has_vertex_color=False)\n",
        "    mesh_file = os.path.join(output_dir, str(i), f\"mesh.{model_save_format}\")\n",
        "    meshes[0].export(mesh_file)\n",
        "    timer.end(\"Exporting mesh\")\n",
        "print(\"Processing complete.\")"
      ],
      "metadata": {
        "colab": {
          "base_uri": "https://localhost:8080/"
        },
        "id": "lNlNlQzLFUdZ",
        "outputId": "f8dc5d3c-981f-48e4-a774-d842fb65340b"
      },
      "execution_count": 14,
      "outputs": [
        {
          "output_type": "stream",
          "name": "stdout",
          "text": [
            "Running image 1/1 ...\n",
            "Running model finished in 2019.24ms.\n"
          ]
        },
        {
          "output_type": "stream",
          "name": "stderr",
          "text": [
            "/content/TripoSR/tsr/utils.py:376: UserWarning: Using torch.cross without specifying the dim arg is deprecated.\n",
            "Please either pass the dim explicitly or simply use torch.linalg.cross.\n",
            "The default value of dim will change to agree with that of linalg.cross in a future release. (Triggered internally at /pytorch/aten/src/ATen/native/Cross.cpp:62.)\n",
            "  right = F.normalize(torch.cross(lookat, up), dim=-1)\n"
          ]
        },
        {
          "output_type": "stream",
          "name": "stdout",
          "text": [
            "Rendering finished in 33781.73ms.\n",
            "Exporting mesh finished in 3492.76ms.\n",
            "Processing complete.\n"
          ]
        }
      ]
    },
    {
      "cell_type": "code",
      "source": [
        "obj_file = \"/content/TripoSR/output/0/mesh.obj\"\n",
        "# Load the .obj mesh\n",
        "ms = pymesh.MeshSet()\n",
        "ms.load_new_mesh(obj_file)\n",
        "mesh = ms.current_mesh()\n",
        "# Convert to .stl format\n",
        "stl_file = 'model.stl'\n",
        "ms.save_current_mesh(stl_file)"
      ],
      "metadata": {
        "id": "j5BxKDjFFlmH"
      },
      "execution_count": 15,
      "outputs": []
    },
    {
      "cell_type": "code",
      "source": [
        "Video('output/0/render.mp4', embed=True)"
      ],
      "metadata": {
        "colab": {
          "base_uri": "https://localhost:8080/",
          "height": 277
        },
        "id": "1Xjs14cwFpYt",
        "outputId": "b596c132-cec5-42fa-c8b4-882de91afb9a"
      },
      "execution_count": 16,
      "outputs": [
        {
          "output_type": "execute_result",
          "data": {
            "text/plain": [
              "<IPython.core.display.Video object>"
            ],
            "text/html": [
              "<video controls  >\n",
              " <source src=\"data:video/mp4;base64,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\" type=\"video/mp4\">\n",
              " Your browser does not support the video tag.\n",
              " </video>"
            ]
          },
          "metadata": {},
          "execution_count": 16
        }
      ]
    }
  ]
}